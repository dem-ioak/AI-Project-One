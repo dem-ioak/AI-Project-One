{
 "cells": [
  {
   "cell_type": "code",
   "execution_count": null,
   "id": "59b84976-892a-437d-b54e-2ed1c5bc28fc",
   "metadata": {},
   "outputs": [],
   "source": [
    "import pandas as pd\n",
    "from matplotlib import pyplot as plt\n",
    "import os\n",
    "import numpy as np"
   ]
  },
  {
   "cell_type": "code",
   "execution_count": null,
   "id": "66313cc1-04e6-4c42-bbd4-3c812e21c772",
   "metadata": {},
   "outputs": [],
   "source": [
    "directory_paths = [f'../data/bot1/', f'../data/bot2/', f'../data/bot3/', f'../data/bot4/']\n",
    "dataframes = [[], [], [], []]\n",
    "column_titles = [\"Bot #\", \"Pass Rate\", \"Num of Steps\", \"Seed\", \"Q Value\"]\n",
    "\n",
    "i = 0\n",
    "for directory_path in directory_paths:\n",
    "    dataframe = dataframes[i]\n",
    "    i += 1\n",
    "    for filename in os.listdir(directory_path):\n",
    "        if filename.endswith('.csv'):\n",
    "            file_path = os.path.join(directory_path, filename)\n",
    "            df = pd.read_csv(file_path, names=column_titles)\n",
    "            dataframe.append(df)\n",
    "    \n",
    "    temp = dataframe[2]\n",
    "    dataframe.pop(2)\n",
    "    dataframe.append(temp)"
   ]
  },
  {
   "cell_type": "code",
   "execution_count": null,
   "id": "e02146c8-2311-4547-8168-fd3efdef4e92",
   "metadata": {},
   "outputs": [],
   "source": [
    "pass_rates = [[], [], [], []]\n",
    "i = 0\n",
    "for dataframe in dataframes:\n",
    "    pass_rate = pass_rates[i]\n",
    "    i += 1\n",
    "    for df in dataframe:\n",
    "        true_count = (df['Pass Rate'] == True).sum()\n",
    "        total = df.shape[0]\n",
    "        pass_rate.append(true_count/total * 100)\n",
    "        print((true_count/total) * 100)\n",
    "    print('\\n')"
   ]
  },
  {
   "cell_type": "code",
   "execution_count": null,
   "id": "c549dbbd-abe0-40e9-8865-b0865f461c45",
   "metadata": {},
   "outputs": [],
   "source": [
    "x = np.arange(0, 1.1, 0.1)   \n",
    "\n",
    "i = 0\n",
    "for line in pass_rates:\n",
    "    label = f'Bot {i + 1}'\n",
    "    i += 1\n",
    "    plt.plot(x, line, label = label)\n",
    "    \n",
    "plt.xticks(x)\n",
    "plt.yticks(np.arange(0, 100, 10)) \n",
    "plt.xlabel('Q Value')\n",
    "plt.ylabel('Success Rate (%)')\n",
    "plt.title('Bots')\n",
    "plt.grid(True)  # Display grid lines\n",
    "plt.ylim(0, 100)\n",
    "plt.legend()\n",
    "plt.savefig('bots.png')"
   ]
  },
  {
   "cell_type": "code",
   "execution_count": null,
   "id": "9621bdc4-d3fe-4142-aee9-405a638408f3",
   "metadata": {},
   "outputs": [],
   "source": []
  }
 ],
 "metadata": {
  "kernelspec": {
   "display_name": "Python 3 (ipykernel)",
   "language": "python",
   "name": "python3"
  },
  "language_info": {
   "codemirror_mode": {
    "name": "ipython",
    "version": 3
   },
   "file_extension": ".py",
   "mimetype": "text/x-python",
   "name": "python",
   "nbconvert_exporter": "python",
   "pygments_lexer": "ipython3",
   "version": "3.11.4"
  }
 },
 "nbformat": 4,
 "nbformat_minor": 5
}
